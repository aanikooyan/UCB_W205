{
 "cells": [
  {
   "cell_type": "markdown",
   "metadata": {},
   "source": [
    "# W205 - Spring 2020 - Project 3: Understanding User Behavior\n",
    "\n",
    "### By: Ali Asadi Nikooyan"
   ]
  },
  {
   "cell_type": "markdown",
   "metadata": {},
   "source": [
    "#### Check PySpark is running"
   ]
  },
  {
   "cell_type": "code",
   "execution_count": 1,
   "metadata": {},
   "outputs": [
    {
     "data": {
      "text/html": [
       "\n",
       "            <div>\n",
       "                <p><b>SparkSession - hive</b></p>\n",
       "                \n",
       "        <div>\n",
       "            <p><b>SparkContext</b></p>\n",
       "\n",
       "            <p><a href=\"http://172.18.0.6:4040\">Spark UI</a></p>\n",
       "\n",
       "            <dl>\n",
       "              <dt>Version</dt>\n",
       "                <dd><code>v2.2.0</code></dd>\n",
       "              <dt>Master</dt>\n",
       "                <dd><code>local[*]</code></dd>\n",
       "              <dt>AppName</dt>\n",
       "                <dd><code>PySparkShell</code></dd>\n",
       "            </dl>\n",
       "        </div>\n",
       "        \n",
       "            </div>\n",
       "        "
      ],
      "text/plain": [
       "<pyspark.sql.session.SparkSession at 0x7fd62dce7cc0>"
      ]
     },
     "execution_count": 1,
     "metadata": {},
     "output_type": "execute_result"
    }
   ],
   "source": [
    "spark"
   ]
  },
  {
   "cell_type": "code",
   "execution_count": 2,
   "metadata": {},
   "outputs": [
    {
     "data": {
      "text/html": [
       "\n",
       "        <div>\n",
       "            <p><b>SparkContext</b></p>\n",
       "\n",
       "            <p><a href=\"http://172.18.0.6:4040\">Spark UI</a></p>\n",
       "\n",
       "            <dl>\n",
       "              <dt>Version</dt>\n",
       "                <dd><code>v2.2.0</code></dd>\n",
       "              <dt>Master</dt>\n",
       "                <dd><code>local[*]</code></dd>\n",
       "              <dt>AppName</dt>\n",
       "                <dd><code>PySparkShell</code></dd>\n",
       "            </dl>\n",
       "        </div>\n",
       "        "
      ],
      "text/plain": [
       "<SparkContext master=local[*] appName=PySparkShell>"
      ]
     },
     "execution_count": 2,
     "metadata": {},
     "output_type": "execute_result"
    }
   ],
   "source": [
    "sc"
   ]
  },
  {
   "cell_type": "markdown",
   "metadata": {},
   "source": [
    "#### Import required packages"
   ]
  },
  {
   "cell_type": "code",
   "execution_count": 3,
   "metadata": {
    "collapsed": true
   },
   "outputs": [],
   "source": [
    "import json\n",
    "from pyspark.sql import Row\n",
    "from pyspark.sql.functions import udf"
   ]
  },
  {
   "cell_type": "markdown",
   "metadata": {},
   "source": [
    "#### User defined functions: "
   ]
  },
  {
   "cell_type": "markdown",
   "metadata": {},
   "source": [
    "> returning True only for _purchase a sword_ event"
   ]
  },
  {
   "cell_type": "code",
   "execution_count": 4,
   "metadata": {
    "collapsed": true
   },
   "outputs": [],
   "source": [
    "@udf('boolean')\n",
    "def is_purchase_sword(event_as_json):\n",
    "    event = json.loads(event_as_json)\n",
    "    if event['event_type'] == 'purchase_sword':\n",
    "        return True\n",
    "    return False"
   ]
  },
  {
   "cell_type": "markdown",
   "metadata": {},
   "source": [
    "> returning True only for _purchase a knife_ event"
   ]
  },
  {
   "cell_type": "code",
   "execution_count": 5,
   "metadata": {
    "collapsed": true
   },
   "outputs": [],
   "source": [
    "@udf('boolean')\n",
    "def is_purchase_knife(event_as_json):\n",
    "    event = json.loads(event_as_json)\n",
    "    if event['event_type'] == 'purchase_knife':\n",
    "        return True\n",
    "    return False"
   ]
  },
  {
   "cell_type": "markdown",
   "metadata": {},
   "source": [
    "#### Reading and printing created raw events from Kafka into Spark"
   ]
  },
  {
   "cell_type": "code",
   "execution_count": 6,
   "metadata": {
    "collapsed": true
   },
   "outputs": [],
   "source": [
    "raw_events = spark \\\n",
    "    .read \\\n",
    "    .format(\"kafka\") \\\n",
    "    .option(\"kafka.bootstrap.servers\", \"kafka:29092\") \\\n",
    "    .option(\"subscribe\", \"events\") \\\n",
    "    .option(\"startingOffsets\", \"earliest\") \\\n",
    "    .option(\"endingOffsets\", \"latest\") \\\n",
    "    .load()"
   ]
  },
  {
   "cell_type": "code",
   "execution_count": 7,
   "metadata": {},
   "outputs": [
    {
     "data": {
      "text/plain": [
       "DataFrame[key: binary, value: binary, topic: string, partition: int, offset: bigint, timestamp: timestamp, timestampType: int]"
      ]
     },
     "execution_count": 7,
     "metadata": {},
     "output_type": "execute_result"
    }
   ],
   "source": [
    "raw_events"
   ]
  },
  {
   "cell_type": "code",
   "execution_count": 8,
   "metadata": {},
   "outputs": [
    {
     "name": "stdout",
     "output_type": "stream",
     "text": [
      "+----+--------------------+------+---------+------+--------------------+-------------+\n",
      "| key|               value| topic|partition|offset|           timestamp|timestampType|\n",
      "+----+--------------------+------+---------+------+--------------------+-------------+\n",
      "|null|[7B 22 48 6F 73 7...|events|        0|     0|2020-04-14 05:26:...|            0|\n",
      "|null|[7B 22 48 6F 73 7...|events|        0|     1|2020-04-14 05:26:...|            0|\n",
      "|null|[7B 22 48 6F 73 7...|events|        0|     2|2020-04-14 05:26:...|            0|\n",
      "|null|[7B 22 48 6F 73 7...|events|        0|     3|2020-04-14 05:26:...|            0|\n",
      "|null|[7B 22 48 6F 73 7...|events|        0|     4|2020-04-14 05:26:...|            0|\n",
      "|null|[7B 22 48 6F 73 7...|events|        0|     5|2020-04-14 05:26:...|            0|\n",
      "|null|[7B 22 48 6F 73 7...|events|        0|     6|2020-04-14 05:26:...|            0|\n",
      "|null|[7B 22 48 6F 73 7...|events|        0|     7|2020-04-14 05:26:...|            0|\n",
      "|null|[7B 22 48 6F 73 7...|events|        0|     8|2020-04-14 05:26:...|            0|\n",
      "|null|[7B 22 48 6F 73 7...|events|        0|     9|2020-04-14 05:26:...|            0|\n",
      "|null|[7B 22 48 6F 73 7...|events|        0|    10|2020-04-14 05:26:...|            0|\n",
      "|null|[7B 22 48 6F 73 7...|events|        0|    11|2020-04-14 05:26:...|            0|\n",
      "|null|[7B 22 48 6F 73 7...|events|        0|    12|2020-04-14 05:26:...|            0|\n",
      "|null|[7B 22 48 6F 73 7...|events|        0|    13|2020-04-14 05:26:...|            0|\n",
      "|null|[7B 22 48 6F 73 7...|events|        0|    14|2020-04-14 05:26:...|            0|\n",
      "|null|[7B 22 48 6F 73 7...|events|        0|    15|2020-04-14 05:26:...|            0|\n",
      "|null|[7B 22 48 6F 73 7...|events|        0|    16|2020-04-14 05:26:...|            0|\n",
      "|null|[7B 22 48 6F 73 7...|events|        0|    17|2020-04-14 05:26:...|            0|\n",
      "|null|[7B 22 48 6F 73 7...|events|        0|    18|2020-04-14 05:26:...|            0|\n",
      "|null|[7B 22 48 6F 73 7...|events|        0|    19|2020-04-14 05:26:...|            0|\n",
      "+----+--------------------+------+---------+------+--------------------+-------------+\n",
      "only showing top 20 rows\n",
      "\n"
     ]
    }
   ],
   "source": [
    "raw_events.show()"
   ]
  },
  {
   "cell_type": "markdown",
   "metadata": {},
   "source": [
    "#### Filtering the raw events for specific event by using the user defined function"
   ]
  },
  {
   "cell_type": "markdown",
   "metadata": {},
   "source": [
    "> **Purchase a sword:**"
   ]
  },
  {
   "cell_type": "code",
   "execution_count": 9,
   "metadata": {
    "collapsed": true
   },
   "outputs": [],
   "source": [
    "purchase_sword_events = raw_events \\\n",
    "    .select(raw_events.value.cast('string').alias('raw'),\n",
    "            raw_events.timestamp.cast('string')) \\\n",
    "    .filter(is_purchase_sword('raw'))"
   ]
  },
  {
   "cell_type": "code",
   "execution_count": 10,
   "metadata": {},
   "outputs": [
    {
     "data": {
      "text/plain": [
       "DataFrame[raw: string, timestamp: string]"
      ]
     },
     "execution_count": 10,
     "metadata": {},
     "output_type": "execute_result"
    }
   ],
   "source": [
    "purchase_sword_events"
   ]
  },
  {
   "cell_type": "code",
   "execution_count": 11,
   "metadata": {},
   "outputs": [
    {
     "name": "stdout",
     "output_type": "stream",
     "text": [
      "+--------------------+--------------------+\n",
      "|                 raw|           timestamp|\n",
      "+--------------------+--------------------+\n",
      "|{\"Host\": \"user1.c...|2020-04-14 05:26:...|\n",
      "|{\"Host\": \"user1.c...|2020-04-14 05:26:...|\n",
      "|{\"Host\": \"user1.c...|2020-04-14 05:26:...|\n",
      "|{\"Host\": \"user1.c...|2020-04-14 05:26:...|\n",
      "|{\"Host\": \"user1.c...|2020-04-14 05:26:...|\n",
      "|{\"Host\": \"user1.c...|2020-04-14 05:26:...|\n",
      "|{\"Host\": \"user1.c...|2020-04-14 05:26:...|\n",
      "|{\"Host\": \"user1.c...|2020-04-14 05:26:...|\n",
      "|{\"Host\": \"user1.c...|2020-04-14 05:26:...|\n",
      "|{\"Host\": \"user1.c...|2020-04-14 05:26:...|\n",
      "|{\"Host\": \"user2.a...|2020-04-14 05:26:...|\n",
      "|{\"Host\": \"user2.a...|2020-04-14 05:26:...|\n",
      "|{\"Host\": \"user2.a...|2020-04-14 05:26:...|\n",
      "|{\"Host\": \"user2.a...|2020-04-14 05:26:...|\n",
      "|{\"Host\": \"user2.a...|2020-04-14 05:26:...|\n",
      "|{\"Host\": \"user2.a...|2020-04-14 05:26:...|\n",
      "|{\"Host\": \"user2.a...|2020-04-14 05:26:...|\n",
      "|{\"Host\": \"user2.a...|2020-04-14 05:26:...|\n",
      "|{\"Host\": \"user2.a...|2020-04-14 05:26:...|\n",
      "|{\"Host\": \"user2.a...|2020-04-14 05:26:...|\n",
      "+--------------------+--------------------+\n",
      "only showing top 20 rows\n",
      "\n"
     ]
    }
   ],
   "source": [
    "purchase_sword_events.show()"
   ]
  },
  {
   "cell_type": "code",
   "execution_count": 12,
   "metadata": {},
   "outputs": [
    {
     "name": "stdout",
     "output_type": "stream",
     "text": [
      "+---------------------------------------------------------------------------------------------------------------+-----------------------+\n",
      "|raw                                                                                                            |timestamp              |\n",
      "+---------------------------------------------------------------------------------------------------------------+-----------------------+\n",
      "|{\"Host\": \"user1.comcast.com\", \"event_type\": \"purchase_sword\", \"Accept\": \"*/*\", \"User-Agent\": \"ApacheBench/2.3\"}|2020-04-14 05:26:25.316|\n",
      "|{\"Host\": \"user1.comcast.com\", \"event_type\": \"purchase_sword\", \"Accept\": \"*/*\", \"User-Agent\": \"ApacheBench/2.3\"}|2020-04-14 05:26:25.32 |\n",
      "|{\"Host\": \"user1.comcast.com\", \"event_type\": \"purchase_sword\", \"Accept\": \"*/*\", \"User-Agent\": \"ApacheBench/2.3\"}|2020-04-14 05:26:25.322|\n",
      "|{\"Host\": \"user1.comcast.com\", \"event_type\": \"purchase_sword\", \"Accept\": \"*/*\", \"User-Agent\": \"ApacheBench/2.3\"}|2020-04-14 05:26:25.324|\n",
      "|{\"Host\": \"user1.comcast.com\", \"event_type\": \"purchase_sword\", \"Accept\": \"*/*\", \"User-Agent\": \"ApacheBench/2.3\"}|2020-04-14 05:26:25.329|\n",
      "|{\"Host\": \"user1.comcast.com\", \"event_type\": \"purchase_sword\", \"Accept\": \"*/*\", \"User-Agent\": \"ApacheBench/2.3\"}|2020-04-14 05:26:25.333|\n",
      "|{\"Host\": \"user1.comcast.com\", \"event_type\": \"purchase_sword\", \"Accept\": \"*/*\", \"User-Agent\": \"ApacheBench/2.3\"}|2020-04-14 05:26:25.335|\n",
      "|{\"Host\": \"user1.comcast.com\", \"event_type\": \"purchase_sword\", \"Accept\": \"*/*\", \"User-Agent\": \"ApacheBench/2.3\"}|2020-04-14 05:26:25.339|\n",
      "|{\"Host\": \"user1.comcast.com\", \"event_type\": \"purchase_sword\", \"Accept\": \"*/*\", \"User-Agent\": \"ApacheBench/2.3\"}|2020-04-14 05:26:25.343|\n",
      "|{\"Host\": \"user1.comcast.com\", \"event_type\": \"purchase_sword\", \"Accept\": \"*/*\", \"User-Agent\": \"ApacheBench/2.3\"}|2020-04-14 05:26:25.346|\n",
      "|{\"Host\": \"user2.att.com\", \"event_type\": \"purchase_sword\", \"Accept\": \"*/*\", \"User-Agent\": \"ApacheBench/2.3\"}    |2020-04-14 05:26:34.947|\n",
      "|{\"Host\": \"user2.att.com\", \"event_type\": \"purchase_sword\", \"Accept\": \"*/*\", \"User-Agent\": \"ApacheBench/2.3\"}    |2020-04-14 05:26:34.951|\n",
      "|{\"Host\": \"user2.att.com\", \"event_type\": \"purchase_sword\", \"Accept\": \"*/*\", \"User-Agent\": \"ApacheBench/2.3\"}    |2020-04-14 05:26:34.953|\n",
      "|{\"Host\": \"user2.att.com\", \"event_type\": \"purchase_sword\", \"Accept\": \"*/*\", \"User-Agent\": \"ApacheBench/2.3\"}    |2020-04-14 05:26:34.955|\n",
      "|{\"Host\": \"user2.att.com\", \"event_type\": \"purchase_sword\", \"Accept\": \"*/*\", \"User-Agent\": \"ApacheBench/2.3\"}    |2020-04-14 05:26:34.96 |\n",
      "|{\"Host\": \"user2.att.com\", \"event_type\": \"purchase_sword\", \"Accept\": \"*/*\", \"User-Agent\": \"ApacheBench/2.3\"}    |2020-04-14 05:26:34.961|\n",
      "|{\"Host\": \"user2.att.com\", \"event_type\": \"purchase_sword\", \"Accept\": \"*/*\", \"User-Agent\": \"ApacheBench/2.3\"}    |2020-04-14 05:26:34.966|\n",
      "|{\"Host\": \"user2.att.com\", \"event_type\": \"purchase_sword\", \"Accept\": \"*/*\", \"User-Agent\": \"ApacheBench/2.3\"}    |2020-04-14 05:26:34.97 |\n",
      "|{\"Host\": \"user2.att.com\", \"event_type\": \"purchase_sword\", \"Accept\": \"*/*\", \"User-Agent\": \"ApacheBench/2.3\"}    |2020-04-14 05:26:34.972|\n",
      "|{\"Host\": \"user2.att.com\", \"event_type\": \"purchase_sword\", \"Accept\": \"*/*\", \"User-Agent\": \"ApacheBench/2.3\"}    |2020-04-14 05:26:34.974|\n",
      "+---------------------------------------------------------------------------------------------------------------+-----------------------+\n",
      "only showing top 20 rows\n",
      "\n"
     ]
    }
   ],
   "source": [
    "purchase_sword_events.show(truncate = False)"
   ]
  },
  {
   "cell_type": "markdown",
   "metadata": {},
   "source": [
    "> **Purchase a Knife:**"
   ]
  },
  {
   "cell_type": "code",
   "execution_count": 13,
   "metadata": {
    "collapsed": true
   },
   "outputs": [],
   "source": [
    "purchase_knife_events = raw_events \\\n",
    "    .select(raw_events.value.cast('string').alias('raw'),\n",
    "            raw_events.timestamp.cast('string')) \\\n",
    "    .filter(is_purchase_knife('raw'))"
   ]
  },
  {
   "cell_type": "code",
   "execution_count": 14,
   "metadata": {},
   "outputs": [
    {
     "data": {
      "text/plain": [
       "DataFrame[raw: string, timestamp: string]"
      ]
     },
     "execution_count": 14,
     "metadata": {},
     "output_type": "execute_result"
    }
   ],
   "source": [
    "purchase_knife_events"
   ]
  },
  {
   "cell_type": "code",
   "execution_count": 15,
   "metadata": {},
   "outputs": [
    {
     "name": "stdout",
     "output_type": "stream",
     "text": [
      "+--------------------------------------------------------------------------------------------------------------------------------------------------+-----------------------+\n",
      "|raw                                                                                                                                               |timestamp              |\n",
      "+--------------------------------------------------------------------------------------------------------------------------------------------------+-----------------------+\n",
      "|{\"Host\": \"user1.comcast.com\", \"User-Agent\": \"ApacheBench/2.3\", \"event_type\": \"purchase_knife\", \"Accept\": \"*/*\", \"description\": \"very sharp knife\"}|2020-04-14 05:27:38.916|\n",
      "|{\"Host\": \"user1.comcast.com\", \"User-Agent\": \"ApacheBench/2.3\", \"event_type\": \"purchase_knife\", \"Accept\": \"*/*\", \"description\": \"very sharp knife\"}|2020-04-14 05:27:38.92 |\n",
      "|{\"Host\": \"user1.comcast.com\", \"User-Agent\": \"ApacheBench/2.3\", \"event_type\": \"purchase_knife\", \"Accept\": \"*/*\", \"description\": \"very sharp knife\"}|2020-04-14 05:27:38.924|\n",
      "|{\"Host\": \"user1.comcast.com\", \"User-Agent\": \"ApacheBench/2.3\", \"event_type\": \"purchase_knife\", \"Accept\": \"*/*\", \"description\": \"very sharp knife\"}|2020-04-14 05:27:38.927|\n",
      "|{\"Host\": \"user1.comcast.com\", \"User-Agent\": \"ApacheBench/2.3\", \"event_type\": \"purchase_knife\", \"Accept\": \"*/*\", \"description\": \"very sharp knife\"}|2020-04-14 05:27:38.932|\n",
      "|{\"Host\": \"user1.comcast.com\", \"User-Agent\": \"ApacheBench/2.3\", \"event_type\": \"purchase_knife\", \"Accept\": \"*/*\", \"description\": \"very sharp knife\"}|2020-04-14 05:27:38.936|\n",
      "|{\"Host\": \"user1.comcast.com\", \"User-Agent\": \"ApacheBench/2.3\", \"event_type\": \"purchase_knife\", \"Accept\": \"*/*\", \"description\": \"very sharp knife\"}|2020-04-14 05:27:38.938|\n",
      "|{\"Host\": \"user1.comcast.com\", \"User-Agent\": \"ApacheBench/2.3\", \"event_type\": \"purchase_knife\", \"Accept\": \"*/*\", \"description\": \"very sharp knife\"}|2020-04-14 05:27:38.94 |\n",
      "|{\"Host\": \"user1.comcast.com\", \"User-Agent\": \"ApacheBench/2.3\", \"event_type\": \"purchase_knife\", \"Accept\": \"*/*\", \"description\": \"very sharp knife\"}|2020-04-14 05:27:38.943|\n",
      "|{\"Host\": \"user1.comcast.com\", \"User-Agent\": \"ApacheBench/2.3\", \"event_type\": \"purchase_knife\", \"Accept\": \"*/*\", \"description\": \"very sharp knife\"}|2020-04-14 05:27:38.946|\n",
      "|{\"Host\": \"user2.att.com\", \"User-Agent\": \"ApacheBench/2.3\", \"event_type\": \"purchase_knife\", \"Accept\": \"*/*\", \"description\": \"very sharp knife\"}    |2020-04-14 05:28:35.884|\n",
      "|{\"Host\": \"user2.att.com\", \"User-Agent\": \"ApacheBench/2.3\", \"event_type\": \"purchase_knife\", \"Accept\": \"*/*\", \"description\": \"very sharp knife\"}    |2020-04-14 05:28:35.888|\n",
      "|{\"Host\": \"user2.att.com\", \"User-Agent\": \"ApacheBench/2.3\", \"event_type\": \"purchase_knife\", \"Accept\": \"*/*\", \"description\": \"very sharp knife\"}    |2020-04-14 05:28:35.893|\n",
      "|{\"Host\": \"user2.att.com\", \"User-Agent\": \"ApacheBench/2.3\", \"event_type\": \"purchase_knife\", \"Accept\": \"*/*\", \"description\": \"very sharp knife\"}    |2020-04-14 05:28:35.896|\n",
      "|{\"Host\": \"user2.att.com\", \"User-Agent\": \"ApacheBench/2.3\", \"event_type\": \"purchase_knife\", \"Accept\": \"*/*\", \"description\": \"very sharp knife\"}    |2020-04-14 05:28:35.903|\n",
      "|{\"Host\": \"user2.att.com\", \"User-Agent\": \"ApacheBench/2.3\", \"event_type\": \"purchase_knife\", \"Accept\": \"*/*\", \"description\": \"very sharp knife\"}    |2020-04-14 05:28:35.907|\n",
      "|{\"Host\": \"user2.att.com\", \"User-Agent\": \"ApacheBench/2.3\", \"event_type\": \"purchase_knife\", \"Accept\": \"*/*\", \"description\": \"very sharp knife\"}    |2020-04-14 05:28:35.911|\n",
      "|{\"Host\": \"user2.att.com\", \"User-Agent\": \"ApacheBench/2.3\", \"event_type\": \"purchase_knife\", \"Accept\": \"*/*\", \"description\": \"very sharp knife\"}    |2020-04-14 05:28:35.914|\n",
      "|{\"Host\": \"user2.att.com\", \"User-Agent\": \"ApacheBench/2.3\", \"event_type\": \"purchase_knife\", \"Accept\": \"*/*\", \"description\": \"very sharp knife\"}    |2020-04-14 05:28:35.921|\n",
      "|{\"Host\": \"user2.att.com\", \"User-Agent\": \"ApacheBench/2.3\", \"event_type\": \"purchase_knife\", \"Accept\": \"*/*\", \"description\": \"very sharp knife\"}    |2020-04-14 05:28:35.924|\n",
      "+--------------------------------------------------------------------------------------------------------------------------------------------------+-----------------------+\n",
      "only showing top 20 rows\n",
      "\n"
     ]
    }
   ],
   "source": [
    "purchase_knife_events.show(truncate = False)"
   ]
  },
  {
   "cell_type": "markdown",
   "metadata": {},
   "source": [
    "#### Define and using a Lambda function to extract the purchase events into a DataFrame"
   ]
  },
  {
   "cell_type": "markdown",
   "metadata": {},
   "source": [
    "> **Purchase a Sword:**"
   ]
  },
  {
   "cell_type": "code",
   "execution_count": 17,
   "metadata": {},
   "outputs": [],
   "source": [
    "# lambda transform\n",
    "extracted_purchase_sword_events = purchase_sword_events \\\n",
    "    .rdd \\\n",
    "    .map(lambda r: Row(timestamp=r.timestamp, **json.loads(r.raw))) \\\n",
    "    .toDF()"
   ]
  },
  {
   "cell_type": "code",
   "execution_count": 18,
   "metadata": {},
   "outputs": [
    {
     "name": "stdout",
     "output_type": "stream",
     "text": [
      "root\n",
      " |-- Accept: string (nullable = true)\n",
      " |-- Host: string (nullable = true)\n",
      " |-- User-Agent: string (nullable = true)\n",
      " |-- event_type: string (nullable = true)\n",
      " |-- timestamp: string (nullable = true)\n",
      "\n"
     ]
    }
   ],
   "source": [
    "extracted_purchase_sword_events.printSchema()"
   ]
  },
  {
   "cell_type": "code",
   "execution_count": 19,
   "metadata": {},
   "outputs": [
    {
     "name": "stdout",
     "output_type": "stream",
     "text": [
      "+------+-----------------+---------------+--------------+--------------------+\n",
      "|Accept|             Host|     User-Agent|    event_type|           timestamp|\n",
      "+------+-----------------+---------------+--------------+--------------------+\n",
      "|   */*|user1.comcast.com|ApacheBench/2.3|purchase_sword|2020-04-14 05:26:...|\n",
      "|   */*|user1.comcast.com|ApacheBench/2.3|purchase_sword|2020-04-14 05:26:...|\n",
      "|   */*|user1.comcast.com|ApacheBench/2.3|purchase_sword|2020-04-14 05:26:...|\n",
      "|   */*|user1.comcast.com|ApacheBench/2.3|purchase_sword|2020-04-14 05:26:...|\n",
      "|   */*|user1.comcast.com|ApacheBench/2.3|purchase_sword|2020-04-14 05:26:...|\n",
      "|   */*|user1.comcast.com|ApacheBench/2.3|purchase_sword|2020-04-14 05:26:...|\n",
      "|   */*|user1.comcast.com|ApacheBench/2.3|purchase_sword|2020-04-14 05:26:...|\n",
      "|   */*|user1.comcast.com|ApacheBench/2.3|purchase_sword|2020-04-14 05:26:...|\n",
      "|   */*|user1.comcast.com|ApacheBench/2.3|purchase_sword|2020-04-14 05:26:...|\n",
      "|   */*|user1.comcast.com|ApacheBench/2.3|purchase_sword|2020-04-14 05:26:...|\n",
      "|   */*|    user2.att.com|ApacheBench/2.3|purchase_sword|2020-04-14 05:26:...|\n",
      "|   */*|    user2.att.com|ApacheBench/2.3|purchase_sword|2020-04-14 05:26:...|\n",
      "|   */*|    user2.att.com|ApacheBench/2.3|purchase_sword|2020-04-14 05:26:...|\n",
      "|   */*|    user2.att.com|ApacheBench/2.3|purchase_sword|2020-04-14 05:26:...|\n",
      "|   */*|    user2.att.com|ApacheBench/2.3|purchase_sword|2020-04-14 05:26:...|\n",
      "|   */*|    user2.att.com|ApacheBench/2.3|purchase_sword|2020-04-14 05:26:...|\n",
      "|   */*|    user2.att.com|ApacheBench/2.3|purchase_sword|2020-04-14 05:26:...|\n",
      "|   */*|    user2.att.com|ApacheBench/2.3|purchase_sword|2020-04-14 05:26:...|\n",
      "|   */*|    user2.att.com|ApacheBench/2.3|purchase_sword|2020-04-14 05:26:...|\n",
      "|   */*|    user2.att.com|ApacheBench/2.3|purchase_sword|2020-04-14 05:26:...|\n",
      "+------+-----------------+---------------+--------------+--------------------+\n",
      "only showing top 20 rows\n",
      "\n"
     ]
    }
   ],
   "source": [
    "extracted_purchase_sword_events.show()"
   ]
  },
  {
   "cell_type": "markdown",
   "metadata": {},
   "source": [
    "> **Purchase a Knife:**"
   ]
  },
  {
   "cell_type": "code",
   "execution_count": 20,
   "metadata": {
    "collapsed": true
   },
   "outputs": [],
   "source": [
    "# lambda transform\n",
    "extracted_purchase_knife_events = purchase_knife_events \\\n",
    "    .rdd \\\n",
    "    .map(lambda r: Row(timestamp=r.timestamp, **json.loads(r.raw))) \\\n",
    "    .toDF()"
   ]
  },
  {
   "cell_type": "code",
   "execution_count": 21,
   "metadata": {},
   "outputs": [
    {
     "name": "stdout",
     "output_type": "stream",
     "text": [
      "root\n",
      " |-- Accept: string (nullable = true)\n",
      " |-- Host: string (nullable = true)\n",
      " |-- User-Agent: string (nullable = true)\n",
      " |-- description: string (nullable = true)\n",
      " |-- event_type: string (nullable = true)\n",
      " |-- timestamp: string (nullable = true)\n",
      "\n"
     ]
    }
   ],
   "source": [
    "extracted_purchase_knife_events.printSchema()"
   ]
  },
  {
   "cell_type": "code",
   "execution_count": 24,
   "metadata": {},
   "outputs": [
    {
     "name": "stdout",
     "output_type": "stream",
     "text": [
      "+------+-----------------+---------------+----------------+--------------+--------------------+\n",
      "|Accept|             Host|     User-Agent|     description|    event_type|           timestamp|\n",
      "+------+-----------------+---------------+----------------+--------------+--------------------+\n",
      "|   */*|user1.comcast.com|ApacheBench/2.3|very sharp knife|purchase_knife|2020-04-14 05:27:...|\n",
      "|   */*|user1.comcast.com|ApacheBench/2.3|very sharp knife|purchase_knife|2020-04-14 05:27:...|\n",
      "|   */*|user1.comcast.com|ApacheBench/2.3|very sharp knife|purchase_knife|2020-04-14 05:27:...|\n",
      "|   */*|user1.comcast.com|ApacheBench/2.3|very sharp knife|purchase_knife|2020-04-14 05:27:...|\n",
      "|   */*|user1.comcast.com|ApacheBench/2.3|very sharp knife|purchase_knife|2020-04-14 05:27:...|\n",
      "|   */*|user1.comcast.com|ApacheBench/2.3|very sharp knife|purchase_knife|2020-04-14 05:27:...|\n",
      "|   */*|user1.comcast.com|ApacheBench/2.3|very sharp knife|purchase_knife|2020-04-14 05:27:...|\n",
      "|   */*|user1.comcast.com|ApacheBench/2.3|very sharp knife|purchase_knife|2020-04-14 05:27:...|\n",
      "|   */*|user1.comcast.com|ApacheBench/2.3|very sharp knife|purchase_knife|2020-04-14 05:27:...|\n",
      "|   */*|user1.comcast.com|ApacheBench/2.3|very sharp knife|purchase_knife|2020-04-14 05:27:...|\n",
      "|   */*|    user2.att.com|ApacheBench/2.3|very sharp knife|purchase_knife|2020-04-14 05:28:...|\n",
      "|   */*|    user2.att.com|ApacheBench/2.3|very sharp knife|purchase_knife|2020-04-14 05:28:...|\n",
      "|   */*|    user2.att.com|ApacheBench/2.3|very sharp knife|purchase_knife|2020-04-14 05:28:...|\n",
      "|   */*|    user2.att.com|ApacheBench/2.3|very sharp knife|purchase_knife|2020-04-14 05:28:...|\n",
      "|   */*|    user2.att.com|ApacheBench/2.3|very sharp knife|purchase_knife|2020-04-14 05:28:...|\n",
      "|   */*|    user2.att.com|ApacheBench/2.3|very sharp knife|purchase_knife|2020-04-14 05:28:...|\n",
      "|   */*|    user2.att.com|ApacheBench/2.3|very sharp knife|purchase_knife|2020-04-14 05:28:...|\n",
      "|   */*|    user2.att.com|ApacheBench/2.3|very sharp knife|purchase_knife|2020-04-14 05:28:...|\n",
      "|   */*|    user2.att.com|ApacheBench/2.3|very sharp knife|purchase_knife|2020-04-14 05:28:...|\n",
      "|   */*|    user2.att.com|ApacheBench/2.3|very sharp knife|purchase_knife|2020-04-14 05:28:...|\n",
      "+------+-----------------+---------------+----------------+--------------+--------------------+\n",
      "only showing top 20 rows\n",
      "\n"
     ]
    }
   ],
   "source": [
    "extracted_purchase_knife_events.show()"
   ]
  },
  {
   "cell_type": "markdown",
   "metadata": {},
   "source": [
    "#### Write the extracted events into a Parquet file"
   ]
  },
  {
   "cell_type": "code",
   "execution_count": 25,
   "metadata": {
    "collapsed": true
   },
   "outputs": [],
   "source": [
    "extracted_purchase_sword_events \\\n",
    "    .write \\\n",
    "    .mode('overwrite') \\\n",
    "    .parquet('/tmp/purchases_sword')"
   ]
  },
  {
   "cell_type": "code",
   "execution_count": 26,
   "metadata": {
    "collapsed": true
   },
   "outputs": [],
   "source": [
    "extracted_purchase_knife_events \\\n",
    "    .write \\\n",
    "    .mode('overwrite') \\\n",
    "    .parquet('/tmp/purchases_knife')"
   ]
  },
  {
   "cell_type": "markdown",
   "metadata": {},
   "source": [
    "#### Reading back from the saved Parquet file directly into Spark"
   ]
  },
  {
   "cell_type": "markdown",
   "metadata": {},
   "source": [
    "> **Purchase a Sword:**"
   ]
  },
  {
   "cell_type": "code",
   "execution_count": 27,
   "metadata": {
    "collapsed": true
   },
   "outputs": [],
   "source": [
    "purchases_sword = spark.read.parquet('/tmp/purchases_sword')"
   ]
  },
  {
   "cell_type": "code",
   "execution_count": 28,
   "metadata": {},
   "outputs": [
    {
     "name": "stdout",
     "output_type": "stream",
     "text": [
      "+------+-----------------+---------------+--------------+--------------------+\n",
      "|Accept|             Host|     User-Agent|    event_type|           timestamp|\n",
      "+------+-----------------+---------------+--------------+--------------------+\n",
      "|   */*|user1.comcast.com|ApacheBench/2.3|purchase_sword|2020-04-14 05:26:...|\n",
      "|   */*|user1.comcast.com|ApacheBench/2.3|purchase_sword|2020-04-14 05:26:...|\n",
      "|   */*|user1.comcast.com|ApacheBench/2.3|purchase_sword|2020-04-14 05:26:...|\n",
      "|   */*|user1.comcast.com|ApacheBench/2.3|purchase_sword|2020-04-14 05:26:...|\n",
      "|   */*|user1.comcast.com|ApacheBench/2.3|purchase_sword|2020-04-14 05:26:...|\n",
      "|   */*|user1.comcast.com|ApacheBench/2.3|purchase_sword|2020-04-14 05:26:...|\n",
      "|   */*|user1.comcast.com|ApacheBench/2.3|purchase_sword|2020-04-14 05:26:...|\n",
      "|   */*|user1.comcast.com|ApacheBench/2.3|purchase_sword|2020-04-14 05:26:...|\n",
      "|   */*|user1.comcast.com|ApacheBench/2.3|purchase_sword|2020-04-14 05:26:...|\n",
      "|   */*|user1.comcast.com|ApacheBench/2.3|purchase_sword|2020-04-14 05:26:...|\n",
      "|   */*|    user2.att.com|ApacheBench/2.3|purchase_sword|2020-04-14 05:26:...|\n",
      "|   */*|    user2.att.com|ApacheBench/2.3|purchase_sword|2020-04-14 05:26:...|\n",
      "|   */*|    user2.att.com|ApacheBench/2.3|purchase_sword|2020-04-14 05:26:...|\n",
      "|   */*|    user2.att.com|ApacheBench/2.3|purchase_sword|2020-04-14 05:26:...|\n",
      "|   */*|    user2.att.com|ApacheBench/2.3|purchase_sword|2020-04-14 05:26:...|\n",
      "|   */*|    user2.att.com|ApacheBench/2.3|purchase_sword|2020-04-14 05:26:...|\n",
      "|   */*|    user2.att.com|ApacheBench/2.3|purchase_sword|2020-04-14 05:26:...|\n",
      "|   */*|    user2.att.com|ApacheBench/2.3|purchase_sword|2020-04-14 05:26:...|\n",
      "|   */*|    user2.att.com|ApacheBench/2.3|purchase_sword|2020-04-14 05:26:...|\n",
      "|   */*|    user2.att.com|ApacheBench/2.3|purchase_sword|2020-04-14 05:26:...|\n",
      "+------+-----------------+---------------+--------------+--------------------+\n",
      "only showing top 20 rows\n",
      "\n"
     ]
    }
   ],
   "source": [
    "purchases_sword.show()"
   ]
  },
  {
   "cell_type": "markdown",
   "metadata": {},
   "source": [
    "> **Purchase a Knife:**"
   ]
  },
  {
   "cell_type": "code",
   "execution_count": 29,
   "metadata": {
    "collapsed": true
   },
   "outputs": [],
   "source": [
    "purchases_knife = spark.read.parquet('/tmp/purchases_knife')"
   ]
  },
  {
   "cell_type": "code",
   "execution_count": 30,
   "metadata": {},
   "outputs": [
    {
     "name": "stdout",
     "output_type": "stream",
     "text": [
      "+------+-----------------+---------------+----------------+--------------+--------------------+\n",
      "|Accept|             Host|     User-Agent|     description|    event_type|           timestamp|\n",
      "+------+-----------------+---------------+----------------+--------------+--------------------+\n",
      "|   */*|user1.comcast.com|ApacheBench/2.3|very sharp knife|purchase_knife|2020-04-14 05:27:...|\n",
      "|   */*|user1.comcast.com|ApacheBench/2.3|very sharp knife|purchase_knife|2020-04-14 05:27:...|\n",
      "|   */*|user1.comcast.com|ApacheBench/2.3|very sharp knife|purchase_knife|2020-04-14 05:27:...|\n",
      "|   */*|user1.comcast.com|ApacheBench/2.3|very sharp knife|purchase_knife|2020-04-14 05:27:...|\n",
      "|   */*|user1.comcast.com|ApacheBench/2.3|very sharp knife|purchase_knife|2020-04-14 05:27:...|\n",
      "|   */*|user1.comcast.com|ApacheBench/2.3|very sharp knife|purchase_knife|2020-04-14 05:27:...|\n",
      "|   */*|user1.comcast.com|ApacheBench/2.3|very sharp knife|purchase_knife|2020-04-14 05:27:...|\n",
      "|   */*|user1.comcast.com|ApacheBench/2.3|very sharp knife|purchase_knife|2020-04-14 05:27:...|\n",
      "|   */*|user1.comcast.com|ApacheBench/2.3|very sharp knife|purchase_knife|2020-04-14 05:27:...|\n",
      "|   */*|user1.comcast.com|ApacheBench/2.3|very sharp knife|purchase_knife|2020-04-14 05:27:...|\n",
      "|   */*|    user2.att.com|ApacheBench/2.3|very sharp knife|purchase_knife|2020-04-14 05:28:...|\n",
      "|   */*|    user2.att.com|ApacheBench/2.3|very sharp knife|purchase_knife|2020-04-14 05:28:...|\n",
      "|   */*|    user2.att.com|ApacheBench/2.3|very sharp knife|purchase_knife|2020-04-14 05:28:...|\n",
      "|   */*|    user2.att.com|ApacheBench/2.3|very sharp knife|purchase_knife|2020-04-14 05:28:...|\n",
      "|   */*|    user2.att.com|ApacheBench/2.3|very sharp knife|purchase_knife|2020-04-14 05:28:...|\n",
      "|   */*|    user2.att.com|ApacheBench/2.3|very sharp knife|purchase_knife|2020-04-14 05:28:...|\n",
      "|   */*|    user2.att.com|ApacheBench/2.3|very sharp knife|purchase_knife|2020-04-14 05:28:...|\n",
      "|   */*|    user2.att.com|ApacheBench/2.3|very sharp knife|purchase_knife|2020-04-14 05:28:...|\n",
      "|   */*|    user2.att.com|ApacheBench/2.3|very sharp knife|purchase_knife|2020-04-14 05:28:...|\n",
      "|   */*|    user2.att.com|ApacheBench/2.3|very sharp knife|purchase_knife|2020-04-14 05:28:...|\n",
      "+------+-----------------+---------------+----------------+--------------+--------------------+\n",
      "only showing top 20 rows\n",
      "\n"
     ]
    }
   ],
   "source": [
    "purchases_knife.show()"
   ]
  },
  {
   "cell_type": "markdown",
   "metadata": {},
   "source": [
    "### Queries"
   ]
  },
  {
   "cell_type": "markdown",
   "metadata": {},
   "source": [
    "#### Register as a tempoarary tables:"
   ]
  },
  {
   "cell_type": "code",
   "execution_count": 31,
   "metadata": {
    "collapsed": true
   },
   "outputs": [],
   "source": [
    "purchases_sword.registerTempTable('purchases_sword')\n",
    "purchases_knife.registerTempTable('purchases_knife')"
   ]
  },
  {
   "cell_type": "markdown",
   "metadata": {},
   "source": [
    "**Query 1:**\n",
    "> Select only knife purchases by User1"
   ]
  },
  {
   "cell_type": "code",
   "execution_count": 51,
   "metadata": {
    "collapsed": true
   },
   "outputs": [],
   "source": [
    "purch_knife_u1 = spark.sql(\"select Host, description, event_type, timestamp from purchases_knife \\\n",
    "                            where Host = 'user1.comcast.com'\")"
   ]
  },
  {
   "cell_type": "code",
   "execution_count": 52,
   "metadata": {},
   "outputs": [
    {
     "name": "stdout",
     "output_type": "stream",
     "text": [
      "+-----------------+----------------+--------------+--------------------+\n",
      "|             Host|     description|    event_type|           timestamp|\n",
      "+-----------------+----------------+--------------+--------------------+\n",
      "|user1.comcast.com|very sharp knife|purchase_knife|2020-04-14 05:27:...|\n",
      "|user1.comcast.com|very sharp knife|purchase_knife|2020-04-14 05:27:...|\n",
      "|user1.comcast.com|very sharp knife|purchase_knife|2020-04-14 05:27:...|\n",
      "|user1.comcast.com|very sharp knife|purchase_knife|2020-04-14 05:27:...|\n",
      "|user1.comcast.com|very sharp knife|purchase_knife|2020-04-14 05:27:...|\n",
      "|user1.comcast.com|very sharp knife|purchase_knife|2020-04-14 05:27:...|\n",
      "|user1.comcast.com|very sharp knife|purchase_knife|2020-04-14 05:27:...|\n",
      "|user1.comcast.com|very sharp knife|purchase_knife|2020-04-14 05:27:...|\n",
      "|user1.comcast.com|very sharp knife|purchase_knife|2020-04-14 05:27:...|\n",
      "|user1.comcast.com|very sharp knife|purchase_knife|2020-04-14 05:27:...|\n",
      "|user1.comcast.com|very sharp knife|purchase_knife|2020-04-14 05:33:...|\n",
      "|user1.comcast.com|very sharp knife|purchase_knife|2020-04-14 05:33:...|\n",
      "|user1.comcast.com|very sharp knife|purchase_knife|2020-04-14 05:33:...|\n",
      "|user1.comcast.com|very sharp knife|purchase_knife|2020-04-14 05:33:...|\n",
      "|user1.comcast.com|very sharp knife|purchase_knife|2020-04-14 05:33:...|\n",
      "|user1.comcast.com|very sharp knife|purchase_knife|2020-04-14 05:33:...|\n",
      "|user1.comcast.com|very sharp knife|purchase_knife|2020-04-14 05:33:...|\n",
      "|user1.comcast.com|very sharp knife|purchase_knife|2020-04-14 05:33:...|\n",
      "|user1.comcast.com|very sharp knife|purchase_knife|2020-04-14 05:33:...|\n",
      "|user1.comcast.com|very sharp knife|purchase_knife|2020-04-14 05:33:...|\n",
      "+-----------------+----------------+--------------+--------------------+\n",
      "\n"
     ]
    }
   ],
   "source": [
    "purch_knife_u1.show()"
   ]
  },
  {
   "cell_type": "code",
   "execution_count": 53,
   "metadata": {
    "collapsed": true
   },
   "outputs": [],
   "source": [
    "# Using toPandas\n",
    "df = purch_knife_u1.toPandas()"
   ]
  },
  {
   "cell_type": "code",
   "execution_count": 54,
   "metadata": {},
   "outputs": [
    {
     "data": {
      "text/html": [
       "<div>\n",
       "<style>\n",
       "    .dataframe thead tr:only-child th {\n",
       "        text-align: right;\n",
       "    }\n",
       "\n",
       "    .dataframe thead th {\n",
       "        text-align: left;\n",
       "    }\n",
       "\n",
       "    .dataframe tbody tr th {\n",
       "        vertical-align: top;\n",
       "    }\n",
       "</style>\n",
       "<table border=\"1\" class=\"dataframe\">\n",
       "  <thead>\n",
       "    <tr style=\"text-align: right;\">\n",
       "      <th></th>\n",
       "      <th>Host</th>\n",
       "      <th>description</th>\n",
       "      <th>event_type</th>\n",
       "      <th>timestamp</th>\n",
       "    </tr>\n",
       "  </thead>\n",
       "  <tbody>\n",
       "    <tr>\n",
       "      <th>0</th>\n",
       "      <td>user1.comcast.com</td>\n",
       "      <td>very sharp knife</td>\n",
       "      <td>purchase_knife</td>\n",
       "      <td>2020-04-14 05:27:38.916</td>\n",
       "    </tr>\n",
       "    <tr>\n",
       "      <th>1</th>\n",
       "      <td>user1.comcast.com</td>\n",
       "      <td>very sharp knife</td>\n",
       "      <td>purchase_knife</td>\n",
       "      <td>2020-04-14 05:27:38.92</td>\n",
       "    </tr>\n",
       "    <tr>\n",
       "      <th>2</th>\n",
       "      <td>user1.comcast.com</td>\n",
       "      <td>very sharp knife</td>\n",
       "      <td>purchase_knife</td>\n",
       "      <td>2020-04-14 05:27:38.924</td>\n",
       "    </tr>\n",
       "    <tr>\n",
       "      <th>3</th>\n",
       "      <td>user1.comcast.com</td>\n",
       "      <td>very sharp knife</td>\n",
       "      <td>purchase_knife</td>\n",
       "      <td>2020-04-14 05:27:38.927</td>\n",
       "    </tr>\n",
       "    <tr>\n",
       "      <th>4</th>\n",
       "      <td>user1.comcast.com</td>\n",
       "      <td>very sharp knife</td>\n",
       "      <td>purchase_knife</td>\n",
       "      <td>2020-04-14 05:27:38.932</td>\n",
       "    </tr>\n",
       "  </tbody>\n",
       "</table>\n",
       "</div>"
      ],
      "text/plain": [
       "                Host       description      event_type  \\\n",
       "0  user1.comcast.com  very sharp knife  purchase_knife   \n",
       "1  user1.comcast.com  very sharp knife  purchase_knife   \n",
       "2  user1.comcast.com  very sharp knife  purchase_knife   \n",
       "3  user1.comcast.com  very sharp knife  purchase_knife   \n",
       "4  user1.comcast.com  very sharp knife  purchase_knife   \n",
       "\n",
       "                 timestamp  \n",
       "0  2020-04-14 05:27:38.916  \n",
       "1   2020-04-14 05:27:38.92  \n",
       "2  2020-04-14 05:27:38.924  \n",
       "3  2020-04-14 05:27:38.927  \n",
       "4  2020-04-14 05:27:38.932  "
      ]
     },
     "execution_count": 54,
     "metadata": {},
     "output_type": "execute_result"
    }
   ],
   "source": [
    "df.head()"
   ]
  },
  {
   "cell_type": "code",
   "execution_count": 55,
   "metadata": {},
   "outputs": [
    {
     "data": {
      "text/html": [
       "<div>\n",
       "<style>\n",
       "    .dataframe thead tr:only-child th {\n",
       "        text-align: right;\n",
       "    }\n",
       "\n",
       "    .dataframe thead th {\n",
       "        text-align: left;\n",
       "    }\n",
       "\n",
       "    .dataframe tbody tr th {\n",
       "        vertical-align: top;\n",
       "    }\n",
       "</style>\n",
       "<table border=\"1\" class=\"dataframe\">\n",
       "  <thead>\n",
       "    <tr style=\"text-align: right;\">\n",
       "      <th></th>\n",
       "      <th>Host</th>\n",
       "      <th>description</th>\n",
       "      <th>event_type</th>\n",
       "      <th>timestamp</th>\n",
       "    </tr>\n",
       "  </thead>\n",
       "  <tbody>\n",
       "    <tr>\n",
       "      <th>count</th>\n",
       "      <td>20</td>\n",
       "      <td>20</td>\n",
       "      <td>20</td>\n",
       "      <td>20</td>\n",
       "    </tr>\n",
       "    <tr>\n",
       "      <th>unique</th>\n",
       "      <td>1</td>\n",
       "      <td>1</td>\n",
       "      <td>1</td>\n",
       "      <td>20</td>\n",
       "    </tr>\n",
       "    <tr>\n",
       "      <th>top</th>\n",
       "      <td>user1.comcast.com</td>\n",
       "      <td>very sharp knife</td>\n",
       "      <td>purchase_knife</td>\n",
       "      <td>2020-04-14 05:33:51.375</td>\n",
       "    </tr>\n",
       "    <tr>\n",
       "      <th>freq</th>\n",
       "      <td>20</td>\n",
       "      <td>20</td>\n",
       "      <td>20</td>\n",
       "      <td>1</td>\n",
       "    </tr>\n",
       "  </tbody>\n",
       "</table>\n",
       "</div>"
      ],
      "text/plain": [
       "                     Host       description      event_type  \\\n",
       "count                  20                20              20   \n",
       "unique                  1                 1               1   \n",
       "top     user1.comcast.com  very sharp knife  purchase_knife   \n",
       "freq                   20                20              20   \n",
       "\n",
       "                      timestamp  \n",
       "count                        20  \n",
       "unique                       20  \n",
       "top     2020-04-14 05:33:51.375  \n",
       "freq                          1  "
      ]
     },
     "execution_count": 55,
     "metadata": {},
     "output_type": "execute_result"
    }
   ],
   "source": [
    "df.describe()"
   ]
  },
  {
   "cell_type": "markdown",
   "metadata": {},
   "source": [
    "**Query 2:**\n",
    "> count the number of all swords and knives purchased"
   ]
  },
  {
   "cell_type": "code",
   "execution_count": 46,
   "metadata": {},
   "outputs": [],
   "source": [
    "total_sword_knives = spark.sql(\"select (select count(*) from purchases_sword) as total_purchased_swords,\\\n",
    "(select count(*) from purchases_knife) as total_purchased_knives\")"
   ]
  },
  {
   "cell_type": "code",
   "execution_count": 47,
   "metadata": {},
   "outputs": [
    {
     "name": "stdout",
     "output_type": "stream",
     "text": [
      "+----------------------+----------------------+\n",
      "|total_purchased_swords|total_purchased_knives|\n",
      "+----------------------+----------------------+\n",
      "|                    50|                    40|\n",
      "+----------------------+----------------------+\n",
      "\n"
     ]
    }
   ],
   "source": [
    "total_sword_knives.show()"
   ]
  },
  {
   "cell_type": "markdown",
   "metadata": {},
   "source": [
    "**Query 3:**\n",
    "> Count the number of swords and knives purchased by user 2"
   ]
  },
  {
   "cell_type": "code",
   "execution_count": 49,
   "metadata": {},
   "outputs": [],
   "source": [
    "swords_knives_u2 = spark.sql(\"select (select count(*) from purchases_sword where Host like 'user2%') as user2_purchased_swords,\\\n",
    "(select count(*) from purchases_knife where Host like 'user2%') as user2_purchased_knives\")"
   ]
  },
  {
   "cell_type": "code",
   "execution_count": 50,
   "metadata": {},
   "outputs": [
    {
     "name": "stdout",
     "output_type": "stream",
     "text": [
      "+----------------------+----------------------+\n",
      "|user2_purchased_swords|user2_purchased_knives|\n",
      "+----------------------+----------------------+\n",
      "|                    30|                    20|\n",
      "+----------------------+----------------------+\n",
      "\n"
     ]
    }
   ],
   "source": [
    "swords_knives_u2.show()"
   ]
  }
 ],
 "metadata": {
  "kernelspec": {
   "display_name": "Python 3",
   "language": "python",
   "name": "python3"
  },
  "language_info": {
   "codemirror_mode": {
    "name": "ipython",
    "version": 3
   },
   "file_extension": ".py",
   "mimetype": "text/x-python",
   "name": "python",
   "nbconvert_exporter": "python",
   "pygments_lexer": "ipython3",
   "version": "3.6.1"
  }
 },
 "nbformat": 4,
 "nbformat_minor": 2
}
